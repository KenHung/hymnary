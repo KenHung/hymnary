{
 "cells": [
  {
   "cell_type": "code",
   "execution_count": 1,
   "metadata": {},
   "outputs": [],
   "source": [
    "from pathlib import Path\n",
    "from mido import MidiFile"
   ]
  },
  {
   "cell_type": "code",
   "execution_count": 4,
   "metadata": {},
   "outputs": [],
   "source": [
    "def normalize_first_notes_velocity(path):\n",
    "    mid = MidiFile(path)\n",
    "    first_notes = []\n",
    "    others = []\n",
    "    for msg in mid.tracks[0]:\n",
    "        if msg.type == 'note_on':\n",
    "            if msg.time == 0 and not others:\n",
    "                first_notes.append(msg)\n",
    "            else:\n",
    "                others.append(msg)\n",
    "\n",
    "    def average_velocity(xs):\n",
    "        vs = [x.velocity for x in xs if x.velocity > 0]\n",
    "        return sum(vs) / len(vs)\n",
    "\n",
    "    rating = average_velocity(others) / average_velocity(first_notes)\n",
    "    for msg in first_notes:\n",
    "        msg.velocity = int(rating * msg.velocity)\n",
    "\n",
    "    mid.save(path)\n",
    "    return mid.tracks"
   ]
  },
  {
   "cell_type": "code",
   "execution_count": 6,
   "metadata": {},
   "outputs": [
    {
     "name": "stdout",
     "output_type": "stream",
     "text": [
      "Error: alvinwong_piano_ai/064.加略山巔.mid\n",
      "division by zero\n"
     ]
    }
   ],
   "source": [
    "for file in Path(\"alvinwong_piano_ai\").iterdir():\n",
    "    try:\n",
    "        normalize_first_notes_velocity(file)\n",
    "    except Exception as e:\n",
    "        print('Error:', file)\n",
    "        print(e)\n",
    "        pass"
   ]
  },
  {
   "cell_type": "code",
   "execution_count": 7,
   "metadata": {},
   "outputs": [
    {
     "name": "stdout",
     "output_type": "stream",
     "text": [
      "Error: christianstudy.com_piano_ai/hymnary300.mid\n",
      "division by zero\n",
      "Error: christianstudy.com_piano_ai/hymnary658.mid\n",
      "division by zero\n",
      "Error: christianstudy.com_piano_ai/hymnary664.mid\n",
      "division by zero\n",
      "Error: christianstudy.com_piano_ai/hymnary704.mid\n",
      "division by zero\n",
      "Error: christianstudy.com_piano_ai/hymnary077.mid\n",
      "division by zero\n",
      "Error: christianstudy.com_piano_ai/hymnary049.mid\n",
      "division by zero\n",
      "Error: christianstudy.com_piano_ai/hymnary060.mid\n",
      "division by zero\n",
      "Error: christianstudy.com_piano_ai/hymnary662.mid\n",
      "division by zero\n",
      "Error: christianstudy.com_piano_ai/hymnary064.mid\n",
      "division by zero\n",
      "Error: christianstudy.com_piano_ai/hymnary299.mid\n",
      "division by zero\n",
      "Error: christianstudy.com_piano_ai/hymnary515.mid\n",
      "division by zero\n",
      "Error: christianstudy.com_piano_ai/hymnary071.mid\n",
      "division by zero\n",
      "Error: christianstudy.com_piano_ai/hymnary714.mid\n",
      "division by zero\n",
      "Error: christianstudy.com_piano_ai/hymnary029.mid\n",
      "division by zero\n",
      "Error: christianstudy.com_piano_ai/hymnary571.mid\n",
      "division by zero\n",
      "Error: christianstudy.com_piano_ai/hymnary202.mid\n",
      "division by zero\n",
      "Error: christianstudy.com_piano_ai/hymnary558.mid\n",
      "division by zero\n",
      "Error: christianstudy.com_piano_ai/hymnary014.mid\n",
      "division by zero\n",
      "Error: christianstudy.com_piano_ai/hymnary214.mid\n",
      "division by zero\n",
      "Error: christianstudy.com_piano_ai/hymnary204.mid\n",
      "division by zero\n",
      "Error: christianstudy.com_piano_ai/hymnary012.mid\n",
      "division by zero\n",
      "Error: christianstudy.com_piano_ai/hymnary628.mid\n",
      "division by zero\n",
      "Error: christianstudy.com_piano_ai/hymnary366.mid\n",
      "division by zero\n",
      "Error: christianstudy.com_piano_ai/hymnary206.mid\n",
      "division by zero\n",
      "Error: christianstudy.com_piano_ai/hymnary560.mid\n",
      "division by zero\n",
      "Error: christianstudy.com_piano_ai/hymnary207.mid\n",
      "division by zero\n",
      "Error: christianstudy.com_piano_ai/hymnary236.mid\n",
      "division by zero\n",
      "Error: christianstudy.com_piano_ai/hymnary593.mid\n",
      "division by zero\n",
      "Error: christianstudy.com_piano_ai/hymnary587.mid\n",
      "division by zero\n",
      "Error: christianstudy.com_piano_ai/hymnary037.mid\n",
      "division by zero\n",
      "Error: christianstudy.com_piano_ai/hymnary221.mid\n",
      "division by zero\n",
      "Error: christianstudy.com_piano_ai/hymnary552.mid\n",
      "division by zero\n",
      "Error: christianstudy.com_piano_ai/hymnary181.mid\n",
      "division by zero\n",
      "Error: christianstudy.com_piano_ai/hymnary432.mid\n",
      "division by zero\n",
      "Error: christianstudy.com_piano_ai/hymnary594.mid\n",
      "division by zero\n",
      "Error: christianstudy.com_piano_ai/hymnary225.mid\n",
      "division by zero\n",
      "Error: christianstudy.com_piano_ai/hymnary033.mid\n",
      "division by zero\n",
      "Error: christianstudy.com_piano_ai/hymnary187.mid\n",
      "division by zero\n",
      "Error: christianstudy.com_piano_ai/hymnary478.mid\n",
      "division by zero\n",
      "Error: christianstudy.com_piano_ai/hymnary096.mid\n",
      "division by zero\n",
      "Error: christianstudy.com_piano_ai/hymnary082.mid\n",
      "division by zero\n",
      "Error: christianstudy.com_piano_ai/hymnary069.mid\n",
      "division by zero\n",
      "Error: christianstudy.com_piano_ai/hymnary479.mid\n",
      "division by zero\n",
      "Error: christianstudy.com_piano_ai/hymnary694.mid\n",
      "division by zero\n",
      "Error: christianstudy.com_piano_ai/hymnary050.mid\n",
      "division by zero\n",
      "Error: christianstudy.com_piano_ai/hymnary130.mid\n",
      "division by zero\n",
      "Error: christianstudy.com_piano_ai/hymnary454.mid\n",
      "division by zero\n",
      "Error: christianstudy.com_piano_ai/hymnary654.mid\n",
      "division by zero\n",
      "Error: christianstudy.com_piano_ai/hymnary090.mid\n",
      "division by zero\n",
      "Error: christianstudy.com_piano_ai/hymnary641.mid\n",
      "division by zero\n"
     ]
    }
   ],
   "source": [
    "for file in Path(\"christianstudy.com_piano_ai\").iterdir():\n",
    "    try:\n",
    "        normalize_first_notes_velocity(file)\n",
    "    except Exception as e:\n",
    "        print('Error:', file)\n",
    "        print(e)\n",
    "        pass"
   ]
  },
  {
   "cell_type": "code",
   "execution_count": null,
   "metadata": {},
   "outputs": [],
   "source": []
  }
 ],
 "metadata": {
  "kernelspec": {
   "display_name": "hym",
   "language": "python",
   "name": "python3"
  },
  "language_info": {
   "codemirror_mode": {
    "name": "ipython",
    "version": 3
   },
   "file_extension": ".py",
   "mimetype": "text/x-python",
   "name": "python",
   "nbconvert_exporter": "python",
   "pygments_lexer": "ipython3",
   "version": "3.9.19"
  }
 },
 "nbformat": 4,
 "nbformat_minor": 2
}
