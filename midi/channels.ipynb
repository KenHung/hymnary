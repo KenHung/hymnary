{
 "cells": [
  {
   "cell_type": "code",
   "execution_count": 3,
   "metadata": {},
   "outputs": [],
   "source": [
    "from pathlib import Path\n",
    "from mido import MidiFile"
   ]
  },
  {
   "cell_type": "code",
   "execution_count": 15,
   "metadata": {},
   "outputs": [],
   "source": [
    "tracks = {\n",
    "    file.name: t\n",
    "    for file in Path(\"alvinwong\").iterdir()\n",
    "    if (t := len(MidiFile(file).tracks)) != 2\n",
    "}"
   ]
  },
  {
   "cell_type": "code",
   "execution_count": 16,
   "metadata": {},
   "outputs": [
    {
     "name": "stdout",
     "output_type": "stream",
     "text": [
      "{'397.十架曾否使你疲倦？.mid': 3,\n",
      " '381.讓我愛而不受感戴.mid': 6,\n",
      " '001.榮耀歸與至高神.mid': 4,\n",
      " '380.十字架的道路要犧牲.mid': 3,\n",
      " '573b.僕人的眼睛（中英）.mid': 3,\n",
      " '156.自伯大尼.mid': 4}\n"
     ]
    }
   ],
   "source": [
    "import pprint\n",
    "pprint.pp(tracks)"
   ]
  },
  {
   "cell_type": "code",
   "execution_count": null,
   "metadata": {},
   "outputs": [],
   "source": []
  }
 ],
 "metadata": {
  "kernelspec": {
   "display_name": "hym",
   "language": "python",
   "name": "python3"
  },
  "language_info": {
   "codemirror_mode": {
    "name": "ipython",
    "version": 3
   },
   "file_extension": ".py",
   "mimetype": "text/x-python",
   "name": "python",
   "nbconvert_exporter": "python",
   "pygments_lexer": "ipython3",
   "version": "3.9.19"
  }
 },
 "nbformat": 4,
 "nbformat_minor": 2
}
