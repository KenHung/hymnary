{
 "cells": [
  {
   "cell_type": "code",
   "execution_count": 1,
   "metadata": {},
   "outputs": [],
   "source": [
    "import mido\n",
    "\n",
    "def midi_duration(hym: int):\n",
    "    mid = mido.MidiFile(f\"machinepianist_midi/output/hymnary{hym:03}.mid\")\n",
    "\n",
    "    total_abs_ticks = 0\n",
    "    tempo = 120  # Default to 120 bpm\n",
    "    for track in mid.tracks:\n",
    "        for msg in track:\n",
    "            if msg.type == \"set_tempo\":\n",
    "                tempo = msg.tempo\n",
    "            relative_ticks = msg.time\n",
    "            absolute_ticks = relative_ticks * tempo / 60\n",
    "            total_abs_ticks += absolute_ticks\n",
    "\n",
    "    ticks_per_beat = mid.ticks_per_beat\n",
    "    return total_abs_ticks / ticks_per_beat * 60 / tempo"
   ]
  },
  {
   "cell_type": "code",
   "execution_count": 2,
   "metadata": {},
   "outputs": [
    {
     "data": {
      "text/plain": [
       "76.71875000000004"
      ]
     },
     "execution_count": 2,
     "metadata": {},
     "output_type": "execute_result"
    }
   ],
   "source": [
    "midi_duration(2)"
   ]
  },
  {
   "cell_type": "code",
   "execution_count": 3,
   "metadata": {},
   "outputs": [],
   "source": [
    "import pandas as pd"
   ]
  },
  {
   "cell_type": "code",
   "execution_count": 4,
   "metadata": {},
   "outputs": [],
   "source": [
    "hym = pd.DataFrame({'id':range(1, 717)})\n",
    "hym.drop(hym.loc[hym['id'] == 649].index, inplace=True)"
   ]
  },
  {
   "cell_type": "code",
   "execution_count": 5,
   "metadata": {},
   "outputs": [],
   "source": [
    "hym['midi_duration'] = hym.id.apply(midi_duration)"
   ]
  },
  {
   "cell_type": "code",
   "execution_count": 6,
   "metadata": {},
   "outputs": [],
   "source": [
    "hym['midi_duration'] = hym['midi_duration'] / 2"
   ]
  },
  {
   "cell_type": "code",
   "execution_count": 7,
   "metadata": {},
   "outputs": [],
   "source": [
    "import soundfile as sf\n",
    "import numpy as np\n",
    "\n",
    "def duration_after_cut(hym, window_size=0.005, threshold=0.005):\n",
    "    # Open the audio file using soundfile\n",
    "    signal, sample_rate = sf.read(f\"pianoteq_mp/hymnary{hym:03}.wav\")\n",
    "\n",
    "    # Compute the magnitude of the audio signal\n",
    "    magnitude = np.abs(signal)\n",
    "\n",
    "    # Compute the moving average of the magnitude using a rolling window\n",
    "    window_length = int(window_size * sample_rate)\n",
    "    ma = np.convolve(np.mean(magnitude, axis=1), np.ones(window_length)/window_length, mode='valid')\n",
    "\n",
    "    # Find the index of the last sample above the threshold\n",
    "    cutoff_idx = len(signal) - np.argmax(ma[::-1] > threshold)\n",
    "\n",
    "    # Calculate the duration of the resulting audio file\n",
    "    return cutoff_idx / sample_rate"
   ]
  },
  {
   "cell_type": "code",
   "execution_count": 8,
   "metadata": {},
   "outputs": [
    {
     "data": {
      "text/plain": [
       "38.83832199546485"
      ]
     },
     "execution_count": 8,
     "metadata": {},
     "output_type": "execute_result"
    }
   ],
   "source": [
    "duration_after_cut(2)"
   ]
  },
  {
   "cell_type": "code",
   "execution_count": 9,
   "metadata": {},
   "outputs": [],
   "source": [
    "hym['duration_after_cut'] = hym.id.apply(duration_after_cut)"
   ]
  },
  {
   "cell_type": "code",
   "execution_count": 10,
   "metadata": {},
   "outputs": [],
   "source": [
    "hym['diff'] = ((hym.midi_duration - hym.duration_after_cut) / hym.midi_duration)"
   ]
  },
  {
   "cell_type": "code",
   "execution_count": 11,
   "metadata": {},
   "outputs": [
    {
     "data": {
      "text/html": [
       "<div>\n",
       "<style scoped>\n",
       "    .dataframe tbody tr th:only-of-type {\n",
       "        vertical-align: middle;\n",
       "    }\n",
       "\n",
       "    .dataframe tbody tr th {\n",
       "        vertical-align: top;\n",
       "    }\n",
       "\n",
       "    .dataframe thead th {\n",
       "        text-align: right;\n",
       "    }\n",
       "</style>\n",
       "<table border=\"1\" class=\"dataframe\">\n",
       "  <thead>\n",
       "    <tr style=\"text-align: right;\">\n",
       "      <th></th>\n",
       "      <th>id</th>\n",
       "      <th>midi_duration</th>\n",
       "      <th>duration_after_cut</th>\n",
       "      <th>diff</th>\n",
       "    </tr>\n",
       "  </thead>\n",
       "  <tbody>\n",
       "    <tr>\n",
       "      <th>199</th>\n",
       "      <td>200</td>\n",
       "      <td>23.882812</td>\n",
       "      <td>22.911293</td>\n",
       "      <td>0.040679</td>\n",
       "    </tr>\n",
       "    <tr>\n",
       "      <th>579</th>\n",
       "      <td>580</td>\n",
       "      <td>26.067708</td>\n",
       "      <td>25.085805</td>\n",
       "      <td>0.037667</td>\n",
       "    </tr>\n",
       "    <tr>\n",
       "      <th>412</th>\n",
       "      <td>413</td>\n",
       "      <td>23.888021</td>\n",
       "      <td>23.023673</td>\n",
       "      <td>0.036183</td>\n",
       "    </tr>\n",
       "    <tr>\n",
       "      <th>709</th>\n",
       "      <td>710</td>\n",
       "      <td>24.195312</td>\n",
       "      <td>23.492200</td>\n",
       "      <td>0.029060</td>\n",
       "    </tr>\n",
       "    <tr>\n",
       "      <th>582</th>\n",
       "      <td>583</td>\n",
       "      <td>23.864583</td>\n",
       "      <td>23.223832</td>\n",
       "      <td>0.026849</td>\n",
       "    </tr>\n",
       "    <tr>\n",
       "      <th>584</th>\n",
       "      <td>585</td>\n",
       "      <td>47.869792</td>\n",
       "      <td>46.793243</td>\n",
       "      <td>0.022489</td>\n",
       "    </tr>\n",
       "    <tr>\n",
       "      <th>159</th>\n",
       "      <td>160</td>\n",
       "      <td>47.877604</td>\n",
       "      <td>46.971247</td>\n",
       "      <td>0.018931</td>\n",
       "    </tr>\n",
       "    <tr>\n",
       "      <th>490</th>\n",
       "      <td>491</td>\n",
       "      <td>32.877604</td>\n",
       "      <td>32.500000</td>\n",
       "      <td>0.011485</td>\n",
       "    </tr>\n",
       "    <tr>\n",
       "      <th>606</th>\n",
       "      <td>607</td>\n",
       "      <td>63.986979</td>\n",
       "      <td>63.415465</td>\n",
       "      <td>0.008932</td>\n",
       "    </tr>\n",
       "    <tr>\n",
       "      <th>564</th>\n",
       "      <td>565</td>\n",
       "      <td>48.854167</td>\n",
       "      <td>48.621429</td>\n",
       "      <td>0.004764</td>\n",
       "    </tr>\n",
       "  </tbody>\n",
       "</table>\n",
       "</div>"
      ],
      "text/plain": [
       "      id  midi_duration  duration_after_cut      diff\n",
       "199  200      23.882812           22.911293  0.040679\n",
       "579  580      26.067708           25.085805  0.037667\n",
       "412  413      23.888021           23.023673  0.036183\n",
       "709  710      24.195312           23.492200  0.029060\n",
       "582  583      23.864583           23.223832  0.026849\n",
       "584  585      47.869792           46.793243  0.022489\n",
       "159  160      47.877604           46.971247  0.018931\n",
       "490  491      32.877604           32.500000  0.011485\n",
       "606  607      63.986979           63.415465  0.008932\n",
       "564  565      48.854167           48.621429  0.004764"
      ]
     },
     "execution_count": 11,
     "metadata": {},
     "output_type": "execute_result"
    }
   ],
   "source": [
    "hym.sort_values('diff', ascending=False).head(10)"
   ]
  },
  {
   "cell_type": "code",
   "execution_count": 12,
   "metadata": {},
   "outputs": [
    {
     "data": {
      "text/html": [
       "<div>\n",
       "<style scoped>\n",
       "    .dataframe tbody tr th:only-of-type {\n",
       "        vertical-align: middle;\n",
       "    }\n",
       "\n",
       "    .dataframe tbody tr th {\n",
       "        vertical-align: top;\n",
       "    }\n",
       "\n",
       "    .dataframe thead th {\n",
       "        text-align: right;\n",
       "    }\n",
       "</style>\n",
       "<table border=\"1\" class=\"dataframe\">\n",
       "  <thead>\n",
       "    <tr style=\"text-align: right;\">\n",
       "      <th></th>\n",
       "      <th>id</th>\n",
       "      <th>midi_duration</th>\n",
       "      <th>duration_after_cut</th>\n",
       "      <th>diff</th>\n",
       "    </tr>\n",
       "  </thead>\n",
       "  <tbody>\n",
       "    <tr>\n",
       "      <th>80</th>\n",
       "      <td>81</td>\n",
       "      <td>11.921875</td>\n",
       "      <td>16.746077</td>\n",
       "      <td>-0.404651</td>\n",
       "    </tr>\n",
       "    <tr>\n",
       "      <th>261</th>\n",
       "      <td>262</td>\n",
       "      <td>16.007812</td>\n",
       "      <td>22.127415</td>\n",
       "      <td>-0.382288</td>\n",
       "    </tr>\n",
       "    <tr>\n",
       "      <th>266</th>\n",
       "      <td>267</td>\n",
       "      <td>12.005208</td>\n",
       "      <td>16.406440</td>\n",
       "      <td>-0.366610</td>\n",
       "    </tr>\n",
       "    <tr>\n",
       "      <th>607</th>\n",
       "      <td>608</td>\n",
       "      <td>15.505208</td>\n",
       "      <td>20.670771</td>\n",
       "      <td>-0.333150</td>\n",
       "    </tr>\n",
       "    <tr>\n",
       "      <th>243</th>\n",
       "      <td>244</td>\n",
       "      <td>15.864583</td>\n",
       "      <td>21.145329</td>\n",
       "      <td>-0.332864</td>\n",
       "    </tr>\n",
       "    <tr>\n",
       "      <th>667</th>\n",
       "      <td>668</td>\n",
       "      <td>18.223958</td>\n",
       "      <td>24.195692</td>\n",
       "      <td>-0.327686</td>\n",
       "    </tr>\n",
       "    <tr>\n",
       "      <th>157</th>\n",
       "      <td>158</td>\n",
       "      <td>16.489583</td>\n",
       "      <td>21.614150</td>\n",
       "      <td>-0.310776</td>\n",
       "    </tr>\n",
       "    <tr>\n",
       "      <th>664</th>\n",
       "      <td>665</td>\n",
       "      <td>19.000000</td>\n",
       "      <td>24.748776</td>\n",
       "      <td>-0.302567</td>\n",
       "    </tr>\n",
       "    <tr>\n",
       "      <th>458</th>\n",
       "      <td>459</td>\n",
       "      <td>16.242188</td>\n",
       "      <td>21.128095</td>\n",
       "      <td>-0.300816</td>\n",
       "    </tr>\n",
       "    <tr>\n",
       "      <th>207</th>\n",
       "      <td>208</td>\n",
       "      <td>15.882813</td>\n",
       "      <td>20.437619</td>\n",
       "      <td>-0.286776</td>\n",
       "    </tr>\n",
       "  </tbody>\n",
       "</table>\n",
       "</div>"
      ],
      "text/plain": [
       "      id  midi_duration  duration_after_cut      diff\n",
       "80    81      11.921875           16.746077 -0.404651\n",
       "261  262      16.007812           22.127415 -0.382288\n",
       "266  267      12.005208           16.406440 -0.366610\n",
       "607  608      15.505208           20.670771 -0.333150\n",
       "243  244      15.864583           21.145329 -0.332864\n",
       "667  668      18.223958           24.195692 -0.327686\n",
       "157  158      16.489583           21.614150 -0.310776\n",
       "664  665      19.000000           24.748776 -0.302567\n",
       "458  459      16.242188           21.128095 -0.300816\n",
       "207  208      15.882813           20.437619 -0.286776"
      ]
     },
     "execution_count": 12,
     "metadata": {},
     "output_type": "execute_result"
    }
   ],
   "source": [
    "hym.sort_values('diff').head(10)"
   ]
  },
  {
   "cell_type": "code",
   "execution_count": null,
   "metadata": {},
   "outputs": [],
   "source": []
  }
 ],
 "metadata": {
  "kernelspec": {
   "display_name": "hym",
   "language": "python",
   "name": "python3"
  },
  "language_info": {
   "codemirror_mode": {
    "name": "ipython",
    "version": 3
   },
   "file_extension": ".py",
   "mimetype": "text/x-python",
   "name": "python",
   "nbconvert_exporter": "python",
   "pygments_lexer": "ipython3",
   "version": "3.9.0"
  },
  "orig_nbformat": 4
 },
 "nbformat": 4,
 "nbformat_minor": 2
}
