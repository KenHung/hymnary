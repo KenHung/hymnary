{
 "cells": [
  {
   "cell_type": "code",
   "execution_count": 1,
   "metadata": {},
   "outputs": [],
   "source": [
    "from time import sleep\n",
    "import pandas as pd\n",
    "import requests\n",
    "from bs4 import BeautifulSoup"
   ]
  },
  {
   "cell_type": "code",
   "execution_count": 2,
   "metadata": {},
   "outputs": [],
   "source": [
    "titles = pd.read_csv(\"songs.txt\", delimiter=\":\", index_col=\"id\")"
   ]
  },
  {
   "cell_type": "code",
   "execution_count": 3,
   "metadata": {},
   "outputs": [],
   "source": [
    "def scrape_info(title):\n",
    "    r = requests.get(f\"https://www.hymnal.net/en/search/h/all/{title}\")\n",
    "    r.raise_for_status()\n",
    "\n",
    "    soup = BeautifulSoup(r.text, \"html.parser\")\n",
    "\n",
    "    # Get the first link item in the list-group div\n",
    "    link_item = soup.select_one(\".list-group a\")\n",
    "\n",
    "    # Extract the text and link number from the link item\n",
    "    text = link_item.contents[0].strip() if link_item else \"\"\n",
    "    link_number = link_item[\"href\"].split(\"/\")[-1] if link_item else None\n",
    "\n",
    "    sleep(0.1)\n",
    "    return {\"match_title\": text, \"match_id\": link_number}"
   ]
  },
  {
   "cell_type": "code",
   "execution_count": 4,
   "metadata": {},
   "outputs": [
    {
     "data": {
      "text/plain": [
       "{'match_title': 'Just one touch as He moves along', 'match_id': '759'}"
      ]
     },
     "execution_count": 4,
     "metadata": {},
     "output_type": "execute_result"
    }
   ],
   "source": [
    "scrape_info('Just one touch')"
   ]
  },
  {
   "cell_type": "code",
   "execution_count": 5,
   "metadata": {},
   "outputs": [],
   "source": [
    "best_match = titles['title'].apply(scrape_info)"
   ]
  },
  {
   "cell_type": "code",
   "execution_count": 17,
   "metadata": {},
   "outputs": [],
   "source": [
    "results = titles.reset_index().join(pd.json_normalize(best_match))"
   ]
  },
  {
   "cell_type": "code",
   "execution_count": 18,
   "metadata": {},
   "outputs": [
    {
     "data": {
      "text/html": [
       "<div>\n",
       "<style scoped>\n",
       "    .dataframe tbody tr th:only-of-type {\n",
       "        vertical-align: middle;\n",
       "    }\n",
       "\n",
       "    .dataframe tbody tr th {\n",
       "        vertical-align: top;\n",
       "    }\n",
       "\n",
       "    .dataframe thead th {\n",
       "        text-align: right;\n",
       "    }\n",
       "</style>\n",
       "<table border=\"1\" class=\"dataframe\">\n",
       "  <thead>\n",
       "    <tr style=\"text-align: right;\">\n",
       "      <th></th>\n",
       "      <th>id</th>\n",
       "      <th>title</th>\n",
       "      <th>match_title</th>\n",
       "      <th>match_id</th>\n",
       "    </tr>\n",
       "  </thead>\n",
       "  <tbody>\n",
       "    <tr>\n",
       "      <th>0</th>\n",
       "      <td>1</td>\n",
       "      <td>Glory To God In The Highest</td>\n",
       "      <td>When I've run the race before me</td>\n",
       "      <td>8773</td>\n",
       "    </tr>\n",
       "    <tr>\n",
       "      <th>1</th>\n",
       "      <td>2</td>\n",
       "      <td>Holy, Holy, Holy</td>\n",
       "      <td>Around Thy table, holy Lord</td>\n",
       "      <td>216</td>\n",
       "    </tr>\n",
       "    <tr>\n",
       "      <th>2</th>\n",
       "      <td>3</td>\n",
       "      <td>Doxology</td>\n",
       "      <td></td>\n",
       "      <td>None</td>\n",
       "    </tr>\n",
       "    <tr>\n",
       "      <th>3</th>\n",
       "      <td>4</td>\n",
       "      <td>Praise Ye The Father</td>\n",
       "      <td>O God and Father, we our praises bring</td>\n",
       "      <td>54</td>\n",
       "    </tr>\n",
       "    <tr>\n",
       "      <th>4</th>\n",
       "      <td>5</td>\n",
       "      <td>Come, Thou Almighty King</td>\n",
       "      <td>Come, Thou Almighty King</td>\n",
       "      <td>3</td>\n",
       "    </tr>\n",
       "    <tr>\n",
       "      <th>...</th>\n",
       "      <td>...</td>\n",
       "      <td>...</td>\n",
       "      <td>...</td>\n",
       "      <td>...</td>\n",
       "    </tr>\n",
       "    <tr>\n",
       "      <th>715</th>\n",
       "      <td>712</td>\n",
       "      <td>Another Year Is Dawning</td>\n",
       "      <td></td>\n",
       "      <td>None</td>\n",
       "    </tr>\n",
       "    <tr>\n",
       "      <th>716</th>\n",
       "      <td>713</td>\n",
       "      <td>Thanks To God</td>\n",
       "      <td>Pray to touch the throne of God</td>\n",
       "      <td>783</td>\n",
       "    </tr>\n",
       "    <tr>\n",
       "      <th>717</th>\n",
       "      <td>714</td>\n",
       "      <td>Come, Let Us Anew</td>\n",
       "      <td>Your ministry, O Lord</td>\n",
       "      <td>1187</td>\n",
       "    </tr>\n",
       "    <tr>\n",
       "      <th>718</th>\n",
       "      <td>715</td>\n",
       "      <td>Count Your Blessings</td>\n",
       "      <td>When upon life's billows you are tempest tossed</td>\n",
       "      <td>707</td>\n",
       "    </tr>\n",
       "    <tr>\n",
       "      <th>719</th>\n",
       "      <td>716</td>\n",
       "      <td>The 150 Psalm</td>\n",
       "      <td></td>\n",
       "      <td>None</td>\n",
       "    </tr>\n",
       "  </tbody>\n",
       "</table>\n",
       "<p>720 rows × 4 columns</p>\n",
       "</div>"
      ],
      "text/plain": [
       "      id                         title   \n",
       "0      1   Glory To God In The Highest  \\\n",
       "1      2              Holy, Holy, Holy   \n",
       "2      3                      Doxology   \n",
       "3      4          Praise Ye The Father   \n",
       "4      5      Come, Thou Almighty King   \n",
       "..   ...                           ...   \n",
       "715  712       Another Year Is Dawning   \n",
       "716  713                 Thanks To God   \n",
       "717  714             Come, Let Us Anew   \n",
       "718  715          Count Your Blessings   \n",
       "719  716                 The 150 Psalm   \n",
       "\n",
       "                                         match_title match_id  \n",
       "0                   When I've run the race before me     8773  \n",
       "1                        Around Thy table, holy Lord      216  \n",
       "2                                                        None  \n",
       "3             O God and Father, we our praises bring       54  \n",
       "4                           Come, Thou Almighty King        3  \n",
       "..                                               ...      ...  \n",
       "715                                                      None  \n",
       "716                  Pray to touch the throne of God      783  \n",
       "717                            Your ministry, O Lord     1187  \n",
       "718  When upon life's billows you are tempest tossed      707  \n",
       "719                                                      None  \n",
       "\n",
       "[720 rows x 4 columns]"
      ]
     },
     "execution_count": 18,
     "metadata": {},
     "output_type": "execute_result"
    }
   ],
   "source": [
    "results"
   ]
  },
  {
   "cell_type": "code",
   "execution_count": null,
   "metadata": {},
   "outputs": [],
   "source": [
    "results.to_csv('matches.csv', index=False)"
   ]
  }
 ],
 "metadata": {
  "kernelspec": {
   "display_name": "hym",
   "language": "python",
   "name": "python3"
  },
  "language_info": {
   "codemirror_mode": {
    "name": "ipython",
    "version": 3
   },
   "file_extension": ".py",
   "mimetype": "text/x-python",
   "name": "python",
   "nbconvert_exporter": "python",
   "pygments_lexer": "ipython3",
   "version": "3.9.0"
  },
  "orig_nbformat": 4
 },
 "nbformat": 4,
 "nbformat_minor": 2
}
