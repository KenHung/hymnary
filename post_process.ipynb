{
 "cells": [
  {
   "cell_type": "code",
   "execution_count": 43,
   "metadata": {},
   "outputs": [],
   "source": [
    "import tempfile\n",
    "\n",
    "import numpy as np\n",
    "import soundfile as sf\n",
    "from pydub import AudioSegment\n",
    "\n",
    "\n",
    "def cutoff_as_mp3(input_file, output_file, window_size=0.005, threshold=0.005):\n",
    "    try:\n",
    "        # Open the audio file using soundfile\n",
    "        signal, sample_rate = sf.read(input_file)\n",
    "\n",
    "        # Compute the magnitude of the audio signal\n",
    "        magnitude = np.abs(signal)\n",
    "\n",
    "        # Compute the moving average of the magnitude using a rolling window\n",
    "        window_length = int(window_size * sample_rate)\n",
    "        ma = np.convolve(\n",
    "            np.mean(magnitude, axis=1), np.ones(window_length) / window_length, mode=\"valid\"\n",
    "        )\n",
    "\n",
    "        # Find the index of the last sample above the threshold\n",
    "        cutoff_idx = len(signal) - np.argmax(ma[::-1] > threshold)\n",
    "\n",
    "        # Cut off the audio at the index\n",
    "        signal = signal[:cutoff_idx]\n",
    "\n",
    "        # Save to a temporary file object\n",
    "        with tempfile.TemporaryFile() as temp:\n",
    "            sf.write(temp, signal, sample_rate, format=\"WAV\")\n",
    "\n",
    "            # Reset the file pointer\n",
    "            temp.seek(0)\n",
    "\n",
    "            # Convert temp file to MP3\n",
    "            audio_segment = AudioSegment.from_wav(temp)\n",
    "\n",
    "        audio_segment.export(output_file, format=\"mp3\")\n",
    "    except sf.LibsndfileError:\n",
    "        return"
   ]
  },
  {
   "cell_type": "code",
   "execution_count": 30,
   "metadata": {},
   "outputs": [],
   "source": [
    "import pandas as pd"
   ]
  },
  {
   "cell_type": "code",
   "execution_count": 40,
   "metadata": {},
   "outputs": [],
   "source": [
    "hym = pd.read_csv('hymnary.csv')\n",
    "hym.drop(hym.loc[hym['id'] == 649].index, inplace=True)"
   ]
  },
  {
   "cell_type": "code",
   "execution_count": 41,
   "metadata": {},
   "outputs": [
    {
     "data": {
      "text/plain": [
       "0      None\n",
       "1      None\n",
       "2      None\n",
       "3      None\n",
       "4      None\n",
       "       ... \n",
       "716    None\n",
       "717    None\n",
       "718    None\n",
       "719    None\n",
       "720    None\n",
       "Length: 715, dtype: object"
      ]
     },
     "execution_count": 41,
     "metadata": {},
     "output_type": "execute_result"
    }
   ],
   "source": [
    "hym.drop_duplicates(\"id\").apply(\n",
    "    lambda x: cutoff_as_mp3(\n",
    "        f\"pianoteq_mp/hymnary{x['id']:03}.wav\",\n",
    "        f\"output/{x['id']:03} {x['name_ch']}（AI）.mp3\",\n",
    "    ),\n",
    "    axis=1,\n",
    ")"
   ]
  },
  {
   "cell_type": "code",
   "execution_count": 45,
   "metadata": {},
   "outputs": [
    {
     "data": {
      "text/plain": [
       "0      None\n",
       "1      None\n",
       "2      None\n",
       "3      None\n",
       "4      None\n",
       "       ... \n",
       "716    None\n",
       "717    None\n",
       "718    None\n",
       "719    None\n",
       "720    None\n",
       "Length: 715, dtype: object"
      ]
     },
     "execution_count": 45,
     "metadata": {},
     "output_type": "execute_result"
    }
   ],
   "source": [
    "hym.drop_duplicates(\"id\").apply(\n",
    "    lambda x: cutoff_as_mp3(\n",
    "        f\"pianoteq_hn/hymnary{x['id']:03}.wav\",\n",
    "        f\"output/{x['id']:03} {x['name_ch']}（司琴）.mp3\",\n",
    "    ),\n",
    "    axis=1,\n",
    ")"
   ]
  },
  {
   "cell_type": "code",
   "execution_count": null,
   "metadata": {},
   "outputs": [],
   "source": []
  }
 ],
 "metadata": {
  "language_info": {
   "name": "python"
  },
  "orig_nbformat": 4
 },
 "nbformat": 4,
 "nbformat_minor": 2
}
